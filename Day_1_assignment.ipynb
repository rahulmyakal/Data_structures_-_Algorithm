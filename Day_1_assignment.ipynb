{
  "nbformat": 4,
  "nbformat_minor": 0,
  "metadata": {
    "colab": {
      "name": "Day_1_assignment.ipynb",
      "provenance": [],
      "authorship_tag": "ABX9TyOg6PJcLk3HYWnv92mPHlvt",
      "include_colab_link": true
    },
    "kernelspec": {
      "name": "python3",
      "display_name": "Python 3"
    }
  },
  "cells": [
    {
      "cell_type": "markdown",
      "metadata": {
        "id": "view-in-github",
        "colab_type": "text"
      },
      "source": [
        "<a href=\"https://colab.research.google.com/github/rahulmyakal/Data_structures_-_Algorithm/blob/main/Day_1_assignment.ipynb\" target=\"_parent\"><img src=\"https://colab.research.google.com/assets/colab-badge.svg\" alt=\"Open In Colab\"/></a>"
      ]
    },
    {
      "cell_type": "markdown",
      "metadata": {
        "id": "Ynz-OfQoS_4h"
      },
      "source": [
        " Question 1\n",
        "\n",
        "Write a python program that takes two numbers as the input and print the result of Addition,\n",
        "Subtraction, Multiplication, Division of the two numbers"
      ]
    },
    {
      "cell_type": "code",
      "metadata": {
        "colab": {
          "base_uri": "https://localhost:8080/"
        },
        "id": "oNqs2BdNTLiz",
        "outputId": "af3edd67-6f3d-4d4b-d615-fc1627f1fd9d"
      },
      "source": [
        "a=int(input(\"Enter the first number:\"))\n",
        "b=int(input(\"Enter the second number:\"))\n",
        "print(\"Addition of two numbers:\",a+b)\n",
        "print(\"Subtraction of two numbers:\",a-b)\n",
        "print(\"Multiplication of two numbers:\",a*b)\n",
        "print(\"Division of two numbers:\",a/b)"
      ],
      "execution_count": null,
      "outputs": [
        {
          "output_type": "stream",
          "text": [
            "Enter the first number:4\n",
            "Enter the second number:2\n",
            "Addition of two numbers: 6\n",
            "Subtraction of two numbers: 2\n",
            "Multiplication of two numbers: 8\n",
            "Division of two numbers: 2.0\n"
          ],
          "name": "stdout"
        }
      ]
    },
    {
      "cell_type": "markdown",
      "metadata": {
        "id": "W2vltD5oTMHi"
      },
      "source": [
        " Question 2 \n",
        "\n",
        "Write a python program that takes two numbers as the input such as X and Y and print the result of X^Y(X to the power of Y)."
      ]
    },
    {
      "cell_type": "code",
      "metadata": {
        "colab": {
          "base_uri": "https://localhost:8080/"
        },
        "id": "N25qV9y2UvRY",
        "outputId": "c659d3c8-1944-4fcf-e927-6000c449b48a"
      },
      "source": [
        "x=int(input(\"Enter the first number: as X\"))\n",
        "y=int(input(\"Enter the second number:as Y\"))\n",
        "print(\"X to the power Y\",x**y)"
      ],
      "execution_count": null,
      "outputs": [
        {
          "output_type": "stream",
          "text": [
            "Enter the first number: as X4\n",
            "Enter the second number:as Y2\n",
            "X to the power Y 16\n"
          ],
          "name": "stdout"
        }
      ]
    }
  ]
}